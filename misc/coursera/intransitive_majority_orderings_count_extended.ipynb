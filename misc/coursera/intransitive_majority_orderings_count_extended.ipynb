{
 "metadata": {
  "name": ""
 },
 "nbformat": 3,
 "nbformat_minor": 0,
 "worksheets": [
  {
   "cells": [
    {
     "cell_type": "code",
     "collapsed": false,
     "input": [
      "#%pylab qt\n",
      "%pylab inline\n",
      "from mpld3 import enable_notebook\n",
      "enable_notebook()"
     ],
     "language": "python",
     "metadata": {},
     "outputs": [
      {
       "output_type": "stream",
       "stream": "stdout",
       "text": [
        "Populating the interactive namespace from numpy and matplotlib\n"
       ]
      }
     ],
     "prompt_number": 1
    },
    {
     "cell_type": "code",
     "collapsed": false,
     "input": [
      "import prettyplotlib as ppl\n",
      "import matplotlib.pyplot as plt\n",
      "\n",
      "from math import factorial\n",
      "\n",
      "#from intransitive_majority_orderings_count_extended import count_intransitive_orderings\n",
      "\n",
      "def count_intransitive_orderings(candidates_count):\n",
      "    combinations_count = candidates_count * (candidates_count - 1) / 2\n",
      "    orderings_count = 2 ** combinations_count\n",
      "    return orderings_count - factorial(candidates_count), orderings_count\n",
      "\n",
      "x_points = []\n",
      "y_points = []\n",
      "for candidates_count in xrange(3,15):\n",
      "    intransitive_orderings_count, orderings_count = count_intransitive_orderings(candidates_count)\n",
      "    intransitive_orderings_proportion = float(intransitive_orderings_count) / orderings_count\n",
      "    print(candidates_count, intransitive_orderings_count, intransitive_orderings_proportion)\n",
      "    x_points.append(candidates_count)\n",
      "    y_points.append(intransitive_orderings_proportion)\n",
      "    ppl.plot(x_points, y_points)\n",
      "plt.show()"
     ],
     "language": "python",
     "metadata": {},
     "outputs": [
      {
       "output_type": "stream",
       "stream": "stdout",
       "text": [
        "(3, 2, 0.25)\n",
        "(4, 40, 0.625)"
       ]
      },
      {
       "output_type": "stream",
       "stream": "stdout",
       "text": [
        "\n",
        "(5, 904, 0.8828125)\n",
        "(6, 32048, 0.97802734375)\n",
        "(7, 2092112, 0.9975967407226562)\n",
        "(8, 268395136, 0.999849796295166)\n",
        "(9, 68719113856, 0.9999947194010019)\n",
        "(10, 35184368460032, 0.9999998968633008)\n",
        "(11, 36028796979047168, 0.9999999988920862)\n",
        "(12, 73786976294359204864L, 0.9999999999935083)\n",
        "(13, 302231454903651066655744L, 0.9999999999999793)\n",
        "(14, 2475880078570760462619957248L, 1.0)\n"
       ]
      },
      {
       "html": [
        "\n",
        "<style>\n",
        "\n",
        "</style>\n",
        "\n",
        "<div id=\"fig17329558716329027100485\"></div>\n",
        "<script>\n",
        "function mpld3_load_lib(url, callback){\n",
        "  var s = document.createElement('script');\n",
        "  s.src = url;\n",
        "  s.async = true;\n",
        "  s.onreadystatechange = s.onload = callback;\n",
        "  s.onerror = function(){console.warn(\"failed to load library \" + url);};\n",
        "  document.getElementsByTagName(\"head\")[0].appendChild(s);\n",
        "}\n",
        "\n",
        "function create_fig17329558716329027100485(){\n",
        "  \n",
        "  mpld3.draw_figure(\"fig17329558716329027100485\", {\"width\": 480.0, \"axes\": [{\"xlim\": [2.0, 14.0], \"yscale\": \"linear\", \"axesbg\": \"#FFFFFF\", \"texts\": [], \"zoomable\": true, \"images\": [], \"xdomain\": [2.0, 14.0], \"ylim\": [0.20000000000000001, 1.0], \"paths\": [], \"sharey\": [], \"sharex\": [], \"axesbgalpha\": null, \"axes\": [{\"grid\": {\"gridOn\": false}, \"position\": \"bottom\", \"nticks\": 7, \"tickvalues\": null, \"tickformat\": null}, {\"grid\": {\"gridOn\": false}, \"position\": \"left\", \"nticks\": 9, \"tickvalues\": null, \"tickformat\": null}], \"lines\": [{\"color\": \"#66C2A5\", \"yindex\": 1, \"coordinates\": \"data\", \"dasharray\": \"10,0\", \"zorder\": 2, \"alpha\": 1, \"xindex\": 0, \"linewidth\": 0.75, \"data\": \"data01\", \"id\": \"1732957656592\"}, {\"color\": \"#FC8D62\", \"yindex\": 1, \"coordinates\": \"data\", \"dasharray\": \"10,0\", \"zorder\": 2, \"alpha\": 1, \"xindex\": 0, \"linewidth\": 0.75, \"data\": \"data02\", \"id\": \"1732957657232\"}, {\"color\": \"#8DA0CB\", \"yindex\": 1, \"coordinates\": \"data\", \"dasharray\": \"10,0\", \"zorder\": 2, \"alpha\": 1, \"xindex\": 0, \"linewidth\": 0.75, \"data\": \"data03\", \"id\": \"1732957659024\"}, {\"color\": \"#E78AC3\", \"yindex\": 1, \"coordinates\": \"data\", \"dasharray\": \"10,0\", \"zorder\": 2, \"alpha\": 1, \"xindex\": 0, \"linewidth\": 0.75, \"data\": \"data04\", \"id\": \"1732957664784\"}, {\"color\": \"#A6D854\", \"yindex\": 1, \"coordinates\": \"data\", \"dasharray\": \"10,0\", \"zorder\": 2, \"alpha\": 1, \"xindex\": 0, \"linewidth\": 0.75, \"data\": \"data05\", \"id\": \"1732957666320\"}, {\"color\": \"#FFD92F\", \"yindex\": 1, \"coordinates\": \"data\", \"dasharray\": \"10,0\", \"zorder\": 2, \"alpha\": 1, \"xindex\": 0, \"linewidth\": 0.75, \"data\": \"data06\", \"id\": \"1732957680272\"}, {\"color\": \"#E5C494\", \"yindex\": 1, \"coordinates\": \"data\", \"dasharray\": \"10,0\", \"zorder\": 2, \"alpha\": 1, \"xindex\": 0, \"linewidth\": 0.75, \"data\": \"data07\", \"id\": \"1732957681872\"}, {\"color\": \"#B3B3B3\", \"yindex\": 1, \"coordinates\": \"data\", \"dasharray\": \"10,0\", \"zorder\": 2, \"alpha\": 1, \"xindex\": 0, \"linewidth\": 0.75, \"data\": \"data08\", \"id\": \"1732957683472\"}, {\"color\": \"#66C2A5\", \"yindex\": 1, \"coordinates\": \"data\", \"dasharray\": \"10,0\", \"zorder\": 2, \"alpha\": 1, \"xindex\": 0, \"linewidth\": 0.75, \"data\": \"data09\", \"id\": \"1732957546000\"}, {\"color\": \"#FC8D62\", \"yindex\": 1, \"coordinates\": \"data\", \"dasharray\": \"10,0\", \"zorder\": 2, \"alpha\": 1, \"xindex\": 0, \"linewidth\": 0.75, \"data\": \"data10\", \"id\": \"1732957690832\"}, {\"color\": \"#8DA0CB\", \"yindex\": 1, \"coordinates\": \"data\", \"dasharray\": \"10,0\", \"zorder\": 2, \"alpha\": 1, \"xindex\": 0, \"linewidth\": 0.75, \"data\": \"data11\", \"id\": \"1732957704784\"}, {\"color\": \"#E78AC3\", \"yindex\": 1, \"coordinates\": \"data\", \"dasharray\": \"10,0\", \"zorder\": 2, \"alpha\": 1, \"xindex\": 0, \"linewidth\": 0.75, \"data\": \"data12\", \"id\": \"1732957706384\"}], \"markers\": [], \"id\": \"1732957008912\", \"ydomain\": [0.20000000000000001, 1.0], \"collections\": [], \"xscale\": \"linear\", \"bbox\": [0.125, 0.125, 0.77500000000000002, 0.77500000000000002]}], \"data\": {\"data12\": [[3.0, 0.25], [4.0, 0.625], [5.0, 0.8828125], [6.0, 0.97802734375], [7.0, 0.9975967407226562], [8.0, 0.999849796295166], [9.0, 0.9999947194010019], [10.0, 0.9999998968633008], [11.0, 0.9999999988920862], [12.0, 0.9999999999935083], [13.0, 0.9999999999999793], [14.0, 1.0]], \"data11\": [[3.0, 0.25], [4.0, 0.625], [5.0, 0.8828125], [6.0, 0.97802734375], [7.0, 0.9975967407226562], [8.0, 0.999849796295166], [9.0, 0.9999947194010019], [10.0, 0.9999998968633008], [11.0, 0.9999999988920862], [12.0, 0.9999999999935083], [13.0, 0.9999999999999793]], \"data10\": [[3.0, 0.25], [4.0, 0.625], [5.0, 0.8828125], [6.0, 0.97802734375], [7.0, 0.9975967407226562], [8.0, 0.999849796295166], [9.0, 0.9999947194010019], [10.0, 0.9999998968633008], [11.0, 0.9999999988920862], [12.0, 0.9999999999935083]], \"data08\": [[3.0, 0.25], [4.0, 0.625], [5.0, 0.8828125], [6.0, 0.97802734375], [7.0, 0.9975967407226562], [8.0, 0.999849796295166], [9.0, 0.9999947194010019], [10.0, 0.9999998968633008]], \"data09\": [[3.0, 0.25], [4.0, 0.625], [5.0, 0.8828125], [6.0, 0.97802734375], [7.0, 0.9975967407226562], [8.0, 0.999849796295166], [9.0, 0.9999947194010019], [10.0, 0.9999998968633008], [11.0, 0.9999999988920862]], \"data06\": [[3.0, 0.25], [4.0, 0.625], [5.0, 0.8828125], [6.0, 0.97802734375], [7.0, 0.9975967407226562], [8.0, 0.999849796295166]], \"data07\": [[3.0, 0.25], [4.0, 0.625], [5.0, 0.8828125], [6.0, 0.97802734375], [7.0, 0.9975967407226562], [8.0, 0.999849796295166], [9.0, 0.9999947194010019]], \"data04\": [[3.0, 0.25], [4.0, 0.625], [5.0, 0.8828125], [6.0, 0.97802734375]], \"data05\": [[3.0, 0.25], [4.0, 0.625], [5.0, 0.8828125], [6.0, 0.97802734375], [7.0, 0.9975967407226562]], \"data02\": [[3.0, 0.25], [4.0, 0.625]], \"data03\": [[3.0, 0.25], [4.0, 0.625], [5.0, 0.8828125]], \"data01\": [[3.0, 0.25]]}, \"id\": \"1732955871632\", \"toolbar\": [\"reset\", \"move\"], \"height\": 320.0});\n",
        "}\n",
        "\n",
        "if(typeof(mpld3) !== \"undefined\"){\n",
        "   // already loaded: just create the figure\n",
        "   create_fig17329558716329027100485();\n",
        "}else if(typeof define === \"function\" && define.amd){\n",
        "   // require.js is available: use it to load d3/mpld3\n",
        "   require.config({paths: {d3: \"http://d3js.org/d3.v3.min\"}});\n",
        "   require([\"d3\"], function(d3){\n",
        "      window.d3 = d3;\n",
        "      mpld3_load_lib(\"http://mpld3.github.io/js/mpld3.v0.1.js\", create_fig17329558716329027100485);\n",
        "    });\n",
        "}else{\n",
        "    // require.js not available: dynamically load d3 & mpld3\n",
        "    mpld3_load_lib(\"http://d3js.org/d3.v3.min.js\", function(){\n",
        "        mpld3_load_lib(\"http://mpld3.github.io/js/mpld3.v0.1.js\", create_fig17329558716329027100485);})\n",
        "}\n",
        "</script>"
       ],
       "metadata": {},
       "output_type": "display_data",
       "png": "[encoded data removed]",
       "text": [
        "<matplotlib.figure.Figure at 0x3548890>"
       ]
      }
     ],
     "prompt_number": 2
    }
   ],
   "metadata": {}
  }
 ]
}