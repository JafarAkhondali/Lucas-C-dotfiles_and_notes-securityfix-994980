{
 "metadata": {
  "name": ""
 },
 "nbformat": 3,
 "nbformat_minor": 0,
 "worksheets": [
  {
   "cells": [
    {
     "cell_type": "code",
     "collapsed": false,
     "input": [
      "print(42)",
      "import random, re, requests\n",
      "for i in range(10):\n",
      "    ip = \".\".join(map(str, (random.randint(0, 255) for _ in range(4))))\n",
      "    print(ip)\n",
      "#    response = requests.post(\"http://valdeloir.revolublog.com/inc_ajax/menu/survey/menu.survey_vote.php\",\n",
      "#        data={\"menu_survey\":142586,\"menu_survey_vote\":0},\n",
      "#        headers={\"Client-IP\":ip})\n",
      "#    print re.findall(\"<result>(.*)</result>\", response.text)"
     ],
     "language": "python",
     "metadata": {},
     "outputs": [
      {
       "output_type": "stream",
       "stream": "stdout",
       "text": [
        "95.67.143.9\n",
        "2.14.223.216\n",
        "165.82.114.216\n",
        "216.218.148.241\n",
        "247.243.13.121\n",
        "227.76.93.156\n",
        "175.175.11.66\n",
        "13.24.195.70\n",
        "145.34.218.82\n",
        "158.3.51.39\n"
       ]
      }
     ],
     "prompt_number": 65
    },
    {
     "cell_type": "code",
     "collapsed": false,
     "input": [],
     "language": "python",
     "metadata": {},
     "outputs": []
    }
   ],
   "metadata": {}
  }
 ]
}
