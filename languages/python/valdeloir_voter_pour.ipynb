{
 "metadata": {
  "name": ""
 },
 "nbformat": 3,
 "nbformat_minor": 0,
 "worksheets": [
  {
   "cells": [
    {
     "cell_type": "code",
     "collapsed": false,
     "input": [
      "import random, re, requests\n",
      "for i in range(10):\n",
      "    ip = \".\".join(map(str, (random.randint(0, 255) for _ in range(4))))\n",
      "    print ip\n",
      "#    response = requests.post(\"http://valdeloir.revolublog.com/inc_ajax/menu/survey/menu.survey_vote.php\",\n",
      "#        data={\"menu_survey\":142586,\"menu_survey_vote\":0},\n",
      "#        headers={\"Client-IP\":ip})\n",
      "#    print re.findall(\"<result>(.*)</result>\", response.text)"
     ],
     "language": "python",
     "metadata": {},
     "outputs": [],
     "prompt_number": 1
    },
    {
     "cell_type": "code",
     "collapsed": false,
     "input": [],
     "language": "python",
     "metadata": {},
     "outputs": []
    }
   ],
   "metadata": {}
  }
 ]
}
