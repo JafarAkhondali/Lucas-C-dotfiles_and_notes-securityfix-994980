{
 "metadata": {
  "name": ""
 },
 "nbformat": 3,
 "nbformat_minor": 0,
 "worksheets": [
  {
   "cells": [
    {
     "cell_type": "markdown",
     "metadata": {},
     "source": [
      "<style>\n",
      ".points {\n",
      "    color: green;\n",
      "}\n",
      "</style>\n",
      "# Wildlife Exam"
     ]
    },
    {
     "cell_type": "markdown",
     "metadata": {},
     "source": [
      "## Reptiles\n",
      "* What are the 2 reptiles found in the wild in Ireland ? *(Warning: the name must match the latin name)* <span class=\"points\">[2 points]</span>  \n",
      "A=<input name=\"reptA_cname\"/> (Bonus point: *Lacerta* <input name=\"reptA_lname2\"/>)  \n",
      "B=<input name=\"reptB_cname\"/> (Bonus point: *Anguis* <input name=\"reptB_lname2\"/>)\n"
     ]
    },
    {
     "cell_type": "markdown",
     "metadata": {},
     "source": [
      "### Reptile A\n",
      "* List 2 other countries where it can be found : <span class=\"points\">[2 points]</span>  \n",
      "<input name=\"reptA_othercountry_1\"/>  \n",
      "<input name=\"reptA_othercountry_2\"/>\n",
      "\n",
      "* What is their period of frost-free hibernation, in months ? <span class=\"points\">[2 points]</span>  \n",
      "From <input name=\"reptA_hibernation_startmonth\"/> to <input name=\"reptA_hibernation_endmonth\"/>.\n",
      "\n",
      "* To what size can it grow ? <span class=\"points\">[1 point]</span>  \n",
      "<input name=\"reptA_maxsize_cm\"/> cm\n",
      "\n",
      "* Can they have a near-blue color ? <span class=\"points\">[+/-1 point]</span>  \n",
      "<input type=radio name=\"reptA_color_blue\" value=\"yes\">Yes<BR>\n",
      "<input type=radio name=\"reptA_color_blue\" value=\"no\">No<BR>\n",
      "\n",
      "* List 2 predators of this reptile : <span class=\"points\">[2 points]</span>  \n",
      "<input name=\"reptA_predator_1\"/>  \n",
      "<input name=\"reptA_predator_2\"/>\n",
      "\n",
      "* List 2 preys for this reptile : <span class=\"points\">[2 points]</span>  \n",
      "<input name=\"reptA_prey_1\"/>  \n",
      "<input name=\"reptA_prey_2\"/>"
     ]
    },
    {
     "cell_type": "markdown",
     "metadata": {},
     "source": [
      "### Reptile B\n",
      "* List 2 differences between this reptile and the newt : <span class=\"points\">[2 points]</span>  \n",
      "<input name=\"reptB_diffwithnewt_1\"/>  \n",
      "<input name=\"reptB_diffwithnewt_2\"/>\n",
      "\n",
      "* When is their mating period during the year ? <span class=\"points\">[1 point]</span>  \n",
      "<input name=\"reptB_matingperiod\"/>\n",
      "\n",
      "* Check which of the following are part of its feeding : <span class=\"points\">[2 points]</span>  \n",
      "<input type=checkbox name=\"reptB_eat_wasp\">Wasps<BR>\n",
      "<input type=checkbox name=\"reptB_eat_centipedes\">Centipedes<BR>\n",
      "<input type=checkbox name=\"reptB_eat_bees\">Bees<BR>\n",
      "<input type=checkbox name=\"reptB_eat_ants\">Ants<BR>\n",
      "\n",
      "* To what size can it grow ? <span class=\"points\">[1 point]</span>  \n",
      "<input name=\"reptB_maxsize_cm\"/> cm\n",
      "\n",
      "* Can their underside be orange ? <span class=\"points\">[+/-1 point]</span>  \n",
      "<input type=radio name=\"reptB_orangeunderside\" value=\"yes\">Yes<BR>\n",
      "<input type=radio name=\"reptB_orangeunderside\" value=\"no\">No<BR>\n",
      "\n",
      "* List 2 caracteristics of their habitat : <span class=\"points\">[2 points]</span>  \n",
      "<input name=\"reptB_habitatcarac_1\"/>  \n",
      "<input name=\"reptB_habitatcarac_2\"/>"
     ]
    },
    {
     "cell_type": "markdown",
     "metadata": {},
     "source": [
      "<button type=\"button\" onclick=\"save_inputs_to_file()\">Submit</button>"
     ]
    }
   ],
   "metadata": {}
  }
 ]
}