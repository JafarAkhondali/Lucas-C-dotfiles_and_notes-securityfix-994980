{
 "metadata": {
  "name": ""
 },
 "nbformat": 3,
 "nbformat_minor": 0,
 "worksheets": [
  {
   "cells": [
    {
     "cell_type": "code",
     "collapsed": false,
     "input": [
      "#%pylab qt\n",
      "%pylab inline\n",
      "from mpld3 import enable_notebook\n",
      "enable_notebook()"
     ],
     "language": "python",
     "metadata": {},
     "outputs": [
      {
       "output_type": "stream",
       "stream": "stdout",
       "text": [
        "Populating the interactive namespace from numpy and matplotlib\n"
       ]
      }
     ],
     "prompt_number": 1
    },
    {
     "cell_type": "code",
     "collapsed": false,
     "input": [
      "import prettyplotlib as ppl\n",
      "import matplotlib.pyplot as plt\n",
      "import string\n",
      "from itertools import combinations\n",
      "\n",
      "def build_candidate_pair_to_ordering_index(candidates):\n",
      "    candidate_pair_to_ordering_index = {}\n",
      "    for i, c in enumerate(combinations(candidates, 2)):\n",
      "        candidate_pair_to_ordering_index[c] = i\n",
      "    return candidate_pair_to_ordering_index\n",
      "\n",
      "def generate_all_orderings(vector_size):\n",
      "    if vector_size == 0:\n",
      "        yield []\n",
      "        return\n",
      "    for ordering in generate_all_orderings(vector_size - 1):\n",
      "        yield [True] + ordering\n",
      "        yield [False] + ordering\n",
      "\n",
      "def count_intransitive_orderings(candidates_count):\n",
      "    candidates = string.ascii_uppercase[:candidates_count]\n",
      "    candidate_pair_to_ordering_index = build_candidate_pair_to_ordering_index(candidates)\n",
      "\n",
      "    def ordering_to_string(ordering):\n",
      "        comparisons = list(ordering)\n",
      "        for candidates_pair, index in candidate_pair_to_ordering_index.iteritems():\n",
      "            comparisons[index] = ('>' if ordering[index] else '<').join(candidates_pair)\n",
      "        return ' ; '.join(comparisons)\n",
      "\n",
      "    def is_ordering_intransitive(ordering):\n",
      "        \"\"\"\n",
      "        An ordering is intransitive if we can find a cycle in it, starting from any candidate.\n",
      "        This function uses a greedy method by trying all possible paths that could lead to a cycle.\n",
      "        \"\"\"\n",
      "        for start_candidate in candidates:\n",
      "            if find_cycle_in_ordering(ordering, current_candidate=start_candidate, candidates_checked=set()):\n",
      "                return True\n",
      "        return False\n",
      "\n",
      "    def find_cycle_in_ordering(ordering, current_candidate, candidates_checked):\n",
      "        if current_candidate in candidates_checked:\n",
      "            return True\n",
      "        candidates_checked.add(current_candidate)\n",
      "        for challenger_candidate in candidates:\n",
      "            if challenger_candidate == current_candidate:\n",
      "                continue\n",
      "            if is_candidate_ranked_better(ordering, challenger_candidate, current_candidate):\n",
      "                if find_cycle_in_ordering(ordering, challenger_candidate, candidates_checked.copy()): # recurse\n",
      "                    return True\n",
      "        return False\n",
      "\n",
      "    def is_candidate_ranked_better(ordering, candidate1, candidate2):\n",
      "        \"\"\"Return True if candidate1 > candidate2 following the ordering\"\"\"\n",
      "        # 'candidates, candidate_pair_to_ordering_index' only contains comparisons in one way, e.g. A vs B and not B vs A\n",
      "        # Hence we need to reverse the logic in the later case\n",
      "        if candidate1 < candidate2: # this is a nifty trick based on characters ordering\n",
      "            return ordering[candidate_pair_to_ordering_index[(candidate1, candidate2)]]\n",
      "        else:\n",
      "            return not ordering[candidate_pair_to_ordering_index[(candidate2, candidate1)]]\n",
      "\n",
      "    ordering_vector_size = len(candidate_pair_to_ordering_index)\n",
      "    orderings_count = 2 ** ordering_vector_size\n",
      "    intransitive_orderings_count = 0\n",
      "    for ordering in generate_all_orderings(ordering_vector_size):\n",
      "        if is_ordering_intransitive(ordering):\n",
      "            intransitive_orderings_count += 1\n",
      "    return intransitive_orderings_count, orderings_count\n",
      " \n",
      "if __name__ == '__main__':\n",
      "    x_points = []\n",
      "    y_points = []\n",
      "    for candidates_count in xrange(3,4):\n",
      "        intransitive_orderings_count, orderings_count = count_intransitive_orderings(candidates_count)\n",
      "        intransitive_orderings_proportion = float(intransitive_orderings_count) / orderings_count\n",
      "        print(candidates_count, intransitive_orderings_count, intransitive_orderings_proportion)\n",
      "        x_points.append(candidates_count)\n",
      "        y_points.append(intransitive_orderings_proportion)\n",
      "        ppl.plot(x_points, y_points)\n",
      "        plt.show()"
     ],
     "language": "python",
     "metadata": {},
     "outputs": [
      {
       "output_type": "stream",
       "stream": "stdout",
       "text": [
        "3\n",
        "(3, 2, 0.25)\n"
       ]
      },
      {
       "html": [
        "\n",
        "<style>\n",
        "\n",
        "</style>\n",
        "\n",
        "<div id=\"fig10812500500008476563035\"></div>\n",
        "<script>\n",
        "function mpld3_load_lib(url, callback){\n",
        "  var s = document.createElement('script');\n",
        "  s.src = url;\n",
        "  s.async = true;\n",
        "  s.onreadystatechange = s.onload = callback;\n",
        "  s.onerror = function(){console.warn(\"failed to load library \" + url);};\n",
        "  document.getElementsByTagName(\"head\")[0].appendChild(s);\n",
        "}\n",
        "\n",
        "function create_fig10812500500008476563035(){\n",
        "  \n",
        "  mpld3.draw_figure(\"fig10812500500008476563035\", {\"width\": 480.0, \"axes\": [{\"xlim\": [2.8500000000000001, 3.1500000000000004], \"yscale\": \"linear\", \"axesbg\": \"#FFFFFF\", \"texts\": [], \"zoomable\": true, \"images\": [], \"xdomain\": [2.8500000000000001, 3.1500000000000004], \"ylim\": [0.23500000000000001, 0.26500000000000001], \"paths\": [], \"sharey\": [], \"sharex\": [], \"axesbgalpha\": null, \"axes\": [{\"grid\": {\"gridOn\": false}, \"position\": \"bottom\", \"nticks\": 8, \"tickvalues\": null, \"tickformat\": null}, {\"grid\": {\"gridOn\": false}, \"position\": \"left\", \"nticks\": 7, \"tickvalues\": null, \"tickformat\": null}], \"lines\": [{\"color\": \"#66C2A5\", \"yindex\": 1, \"coordinates\": \"data\", \"dasharray\": \"10,0\", \"zorder\": 2, \"alpha\": 1, \"xindex\": 0, \"linewidth\": 0.75, \"data\": \"data01\", \"id\": \"1081250046416\"}], \"markers\": [], \"id\": \"1081250053008\", \"ydomain\": [0.23500000000000001, 0.26500000000000001], \"collections\": [], \"xscale\": \"linear\", \"bbox\": [0.125, 0.125, 0.77500000000000002, 0.77500000000000002]}], \"data\": {\"data01\": [[3.0, 0.25]]}, \"id\": \"1081250050000\", \"toolbar\": [\"reset\", \"move\"], \"height\": 320.0});\n",
        "}\n",
        "\n",
        "if(typeof(mpld3) !== \"undefined\"){\n",
        "   // already loaded: just create the figure\n",
        "   create_fig10812500500008476563035();\n",
        "}else if(typeof define === \"function\" && define.amd){\n",
        "   // require.js is available: use it to load d3/mpld3\n",
        "   require.config({paths: {d3: \"http://d3js.org/d3.v3.min\"}});\n",
        "   require([\"d3\"], function(d3){\n",
        "      window.d3 = d3;\n",
        "      mpld3_load_lib(\"http://mpld3.github.io/js/mpld3.v0.1.js\", create_fig10812500500008476563035);\n",
        "    });\n",
        "}else{\n",
        "    // require.js not available: dynamically load d3 & mpld3\n",
        "    mpld3_load_lib(\"http://d3js.org/d3.v3.min.js\", function(){\n",
        "        mpld3_load_lib(\"http://mpld3.github.io/js/mpld3.v0.1.js\", create_fig10812500500008476563035);})\n",
        "}\n",
        "</script>"
       ],
       "metadata": {},
       "output_type": "display_data",
       "png": "[encoded data removed]",
       "text": [
        "<matplotlib.figure.Figure at 0x2fbb3d0>"
       ]
      }
     ],
     "prompt_number": 7
    },
    {
     "cell_type": "code",
     "collapsed": false,
     "input": [],
     "language": "python",
     "metadata": {},
     "outputs": []
    }
   ],
   "metadata": {}
  }
 ]
}